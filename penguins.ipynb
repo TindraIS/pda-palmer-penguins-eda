{
 "cells": [
  {
   "cell_type": "markdown",
   "metadata": {},
   "source": [
    "# </a><center>Palmer Penguins Exploratory Data Analysis</center>\n",
    "\n",
    "---"
   ]
  },
  {
   "cell_type": "markdown",
   "metadata": {},
   "source": [
    "by *Irina Simoes*"
   ]
  },
  {
   "cell_type": "markdown",
   "metadata": {},
   "source": [
    "**Table of contents**<a id='toc0_'></a>    \n",
    "- [Introduction](#toc1_)    \n",
    "  - [About the dataset](#toc1_1_)    \n",
    "  - [Analysis goal](#toc1_2_)    \n",
    "- [Load Libraries & Dataset](#toc2_)    \n",
    "  - [Import all the required libraries for the analysis](#toc2_1_)    \n",
    "  - [Acquiring and loading the dataset](#toc2_2_)    \n",
    "- [Overview & Basic Exploration](#toc3_)    \n",
    "  - [Check for the DataFrame dimensionality with pandas `.info()` method](#toc3_1_)    \n",
    "  - [Get a first look at the data with pandas `.sample` method  ](#toc3_2_)    \n",
    "  - [Generate descriptive statistics with pandas `.describe` method  ](#toc3_3_)    \n",
    "  - [X Action Items](#toc3_4_)    \n",
    "- [Data Cleaning & Wrangling](#toc4_)    \n",
    "- [Data Analysis](#toc5_)    \n",
    "  - [Univariate Analysis](#toc5_1_)    \n",
    "    - [Numeric variables](#toc5_1_1_)    \n",
    "    - [Categorical variables](#toc5_1_2_)    \n",
    "  - [Bivariate Analysis](#toc5_2_)    \n",
    "  - [Multivariate Analysis](#toc5_3_)    \n",
    "- [Insights & Conclusion](#toc6_)    \n",
    "- [Notes](#toc7_)    \n",
    "- [End](#toc8_)    \n",
    "\n",
    "<!-- vscode-jupyter-toc-config\n",
    "\tnumbering=false\n",
    "\tanchor=true\n",
    "\tflat=false\n",
    "\tminLevel=2\n",
    "\tmaxLevel=6\n",
    "\t/vscode-jupyter-toc-config -->\n",
    "<!-- THIS CELL WILL BE REPLACED ON TOC UPDATE. DO NOT WRITE YOUR TEXT IN THIS CELL -->"
   ]
  },
  {
   "cell_type": "markdown",
   "metadata": {},
   "source": [
    "---\n",
    "## <a id='toc1_'></a>[Introduction](#toc0_)"
   ]
  },
  {
   "cell_type": "markdown",
   "metadata": {},
   "source": [
    "### <a id='toc1_1_'></a>[About the dataset](#toc0_)\n",
    "\n",
    "This notebook explores the different variables of [Palmer Penguins dataset](https://allisonhorst.github.io/palmerpenguins/articles/intro.html), which was first introduced by Allison Horst, Alison Hill, and Kristen Gorman in 2020. The dataset is a collection of data about three different species of penguins inhabiting the Palmer Archipelago near Palmer Station in Antarctica, which were collected from 2007 to 2009 by Dr. Kristen Gorman with the Palmer Station Long Term Ecological Research Program, part of the US Long Term Ecological Research Network."
   ]
  },
  {
   "cell_type": "markdown",
   "metadata": {},
   "source": [
    "### <a id='toc1_2_'></a>[Analysis goal](#toc0_)\n",
    "For this exploratory data analysis <sup>[1]</sup><sup>[2]</sup><sup>[3]</sup>, we will focus on exploring the data to gain insights on the underlying attributes with the end goal of uncovering patterns and identifying dependencies. Namely, we will seek to explore the [correlation between two of the variables](https://towardsdatascience.com/what-it-takes-to-be-correlated-ce41ad0d8d7f), regardless of whether they are causal or not.\n",
    "\n",
    "<sup>[1] <a href=\"https://www.geeksforgeeks.org/exploratory-data-analysis-in-python\">Exploratory Data Analysis</a></sup><br><sup>[2] <a href=\"https://www.geeksforgeeks.org/exploratory-data-analysis-in-python-set-1/\">Exploratory Data Analysis in Python | Set 1</a></sup><br><sup>[3] <a href=\"https://www.geeksforgeeks.org/what-is-exploratory-data-analysis/\">What is Exploratory Data Analysis?</a></sup>\n"
   ]
  },
  {
   "cell_type": "markdown",
   "metadata": {},
   "source": [
    "---\n",
    "## <a id='toc2_'></a>[Load Libraries & Dataset](#toc0_)"
   ]
  },
  {
   "cell_type": "markdown",
   "metadata": {},
   "source": [
    "### <a id='toc2_1_'></a>[Import all the required libraries for the analysis](#toc0_)\n",
    "* [Seaborn](https://seaborn.pydata.org/): Data visualization library based on matplotlib that provides a high-level interface for drawing attractive statistical graphics.\n",
    "\n",
    "* [Pandas](https://pandas.pydata.org): Fundamental data analysis and manipulation library built on top of the Python programming language. It offers data structures and operations for manipulating numerical tables and time series.\n",
    "\n",
    "* [Numpy](https://numpy.org/): It contains functionality for multidimensional arrays, high-level mathematical functions such as linear algebra operations.\n",
    "\n",
    "* [Matplotlib](https://matplotlib.org/): Essential for creating static, animated,  and interactive visualizations in Python. It is closely integrated with NumPy and provides a MATLAB-like interface for creating plots and visualizations."
   ]
  },
  {
   "cell_type": "code",
   "execution_count": 1,
   "metadata": {},
   "outputs": [],
   "source": [
    "import seaborn as sns\n",
    "import pandas as pd\n",
    "import numpy as np\n",
    "import matplotlib.pyplot as plt"
   ]
  },
  {
   "cell_type": "markdown",
   "metadata": {},
   "source": [
    "### <a id='toc2_2_'></a>[Acquiring and loading the dataset](#toc0_)\n",
    "\n",
    "As stated in the [official documentation for the Seaborn library](https://seaborn.pydata.org/generated/seaborn.load_dataset.html), datasets can be loaded from an [online repository](https://github.com/mwaskom/seaborn-data):\n",
    "\n",
    "First by executing `get_dataset_names()` to confirm if Palmer Penguins is indeed listed as one of the \n",
    "of available datasets;"
   ]
  },
  {
   "cell_type": "code",
   "execution_count": 2,
   "metadata": {},
   "outputs": [
    {
     "data": {
      "text/plain": [
       "['anagrams',\n",
       " 'anscombe',\n",
       " 'attention',\n",
       " 'brain_networks',\n",
       " 'car_crashes',\n",
       " 'diamonds',\n",
       " 'dots',\n",
       " 'dowjones',\n",
       " 'exercise',\n",
       " 'flights',\n",
       " 'fmri',\n",
       " 'geyser',\n",
       " 'glue',\n",
       " 'healthexp',\n",
       " 'iris',\n",
       " 'mpg',\n",
       " 'penguins',\n",
       " 'planets',\n",
       " 'seaice',\n",
       " 'taxis',\n",
       " 'tips',\n",
       " 'titanic']"
      ]
     },
     "execution_count": 2,
     "metadata": {},
     "output_type": "execute_result"
    }
   ],
   "source": [
    "sns.get_dataset_names()"
   ]
  },
  {
   "cell_type": "markdown",
   "metadata": {},
   "source": [
    "Secondly by calling `seaborn.load_dataset()` function with the actual database name, namely penguins, we load it into our project. The dataset returned is a [DataFrame object by default](https://seaborn.pydata.org/generated/seaborn.load_dataset.html), as the Seaborn library is closely [integrated with pandas data structures](https://seaborn.pydata.org/tutorial/introduction). Consequently, the loaded dataset comprises a [2-dimensional data structure](https://pandas.pydata.org/docs/reference/api/pandas.DataFrame.html) with rows and columns.\n",
    "\n"
   ]
  },
  {
   "cell_type": "code",
   "execution_count": 3,
   "metadata": {},
   "outputs": [],
   "source": [
    "df = sns.load_dataset(\"penguins\")"
   ]
  },
  {
   "cell_type": "markdown",
   "metadata": {},
   "source": [
    "---\n",
    "## <a id='toc3_'></a>[Overview & Basic Exploration](#toc0_)"
   ]
  },
  {
   "cell_type": "markdown",
   "metadata": {},
   "source": [
    "We should get a basic understanding of the data structure, format, and characteristics by inspecting the dataset's dimension, data types, presence of missing values and/or duplicate records, as well as exploring some initial summary statistics. In order to achieve this we'll be using methods and attributes available through pandas DataFrame object. <sup>[1]</sup><sup>[2]</sup>\n",
    "\n",
    "\n",
    "<sup>[1] <a href=\"https://pandas.pydata.org/pandas-docs/stable/reference/api/pandas.DataFrame.html\">pandas.DataFrame Official Documentation</a>\n",
    "</sup><br><sup>[2] <a href=\"https://medium.com/codex/10-efficient-ways-for-inspecting-a-pandas-dataframe-object-3f66563e2f2\">10 Efficient Ways for Inspecting a Pandas DataFrame Object</a>\n"
   ]
  },
  {
   "cell_type": "markdown",
   "metadata": {},
   "source": [
    "### <a id='toc3_1_'></a>[Check for the DataFrame dimensionality with pandas `.info()` method](#toc0_)"
   ]
  },
  {
   "cell_type": "markdown",
   "metadata": {},
   "source": [
    "**Rationale:** The goal is to return a summary with the column headers, total number of rows and columns, count of non-null values, and data types, as per [pandas official documentation](https://pandas.pydata.org/docs/reference/api/pandas.DataFrame.info.html). We can then understand the size and structure of the dataset before performing further analysis. \n",
    "\n",
    "**Findings:**\n",
    "\n",
    "* The set contains 344 rows and 7 columns.\n",
    "* 4 variables are numeric with type ``float64``: _culmen length in mm, culmen depth in mm, flipper length in mm, and body mass in rams_.\n",
    "* 3 variables are categorical with type ``object``: _species, island, and sex_. \n",
    "* 5 of the columns have missing values, which means we'll have to some data wrangling and clean up before any data analsysis."
   ]
  },
  {
   "cell_type": "code",
   "execution_count": 4,
   "metadata": {},
   "outputs": [
    {
     "name": "stdout",
     "output_type": "stream",
     "text": [
      "<class 'pandas.core.frame.DataFrame'>\n",
      "RangeIndex: 344 entries, 0 to 343\n",
      "Data columns (total 7 columns):\n",
      " #   Column             Non-Null Count  Dtype  \n",
      "---  ------             --------------  -----  \n",
      " 0   species            344 non-null    object \n",
      " 1   island             344 non-null    object \n",
      " 2   bill_length_mm     342 non-null    float64\n",
      " 3   bill_depth_mm      342 non-null    float64\n",
      " 4   flipper_length_mm  342 non-null    float64\n",
      " 5   body_mass_g        342 non-null    float64\n",
      " 6   sex                333 non-null    object \n",
      "dtypes: float64(4), object(3)\n",
      "memory usage: 18.9+ KB\n"
     ]
    }
   ],
   "source": [
    "df.info()"
   ]
  },
  {
   "cell_type": "markdown",
   "metadata": {},
   "source": [
    "### <a id='toc3_2_'></a>Get a first look at the data with pandas `.sample` [method](https://pandas.pydata.org/docs/reference/api/pandas.DataFrame.sample.html)   [&#8593;](#toc0_)"
   ]
  },
  {
   "cell_type": "code",
   "execution_count": 5,
   "metadata": {},
   "outputs": [
    {
     "name": "stdout",
     "output_type": "stream",
     "text": [
      "-------- Head -------- \n",
      "   species     island  bill_length_mm  bill_depth_mm  flipper_length_mm  \\\n",
      "0  Adelie  Torgersen            39.1           18.7              181.0   \n",
      "1  Adelie  Torgersen            39.5           17.4              186.0   \n",
      "2  Adelie  Torgersen            40.3           18.0              195.0   \n",
      "3  Adelie  Torgersen             NaN            NaN                NaN   \n",
      "4  Adelie  Torgersen            36.7           19.3              193.0   \n",
      "\n",
      "   body_mass_g     sex  \n",
      "0       3750.0    Male  \n",
      "1       3800.0  Female  \n",
      "2       3250.0  Female  \n",
      "3          NaN     NaN  \n",
      "4       3450.0  Female   \n",
      "\n",
      "-------- Tail -------- \n",
      "     species  island  bill_length_mm  bill_depth_mm  flipper_length_mm  \\\n",
      "339  Gentoo  Biscoe             NaN            NaN                NaN   \n",
      "340  Gentoo  Biscoe            46.8           14.3              215.0   \n",
      "341  Gentoo  Biscoe            50.4           15.7              222.0   \n",
      "342  Gentoo  Biscoe            45.2           14.8              212.0   \n",
      "343  Gentoo  Biscoe            49.9           16.1              213.0   \n",
      "\n",
      "     body_mass_g     sex  \n",
      "339          NaN     NaN  \n",
      "340       4850.0  Female  \n",
      "341       5750.0    Male  \n",
      "342       5200.0  Female  \n",
      "343       5400.0    Male  \n"
     ]
    }
   ],
   "source": [
    "print(\"-------- Head -------- \\n\", df.head(5),\"\\n\\n-------- Tail -------- \\n\", df.tail(5)) "
   ]
  },
  {
   "cell_type": "markdown",
   "metadata": {},
   "source": [
    "### <a id='toc3_3_'></a>Generate descriptive statistics with pandas `.describe` [method](https://pandas.pydata.org/docs/reference/api/pandas.DataFrame.describe.html#pandas.DataFrame.describe)   [&#8593;](#toc0_)"
   ]
  },
  {
   "cell_type": "markdown",
   "metadata": {},
   "source": [
    "\n",
    "**Rationale:** \n",
    "Understand the distribution of numerical data with percentile attribution and a provide a quick summary that will helps us understand the penguins' characteristics central tendency, variability, and range.<sup>[1]</sup> It includes the following statistics:<sup>[2]</sup>\n",
    "\n",
    "- Count: This represents the number of non-null (non-missing) values in the dataset for each column. It gives an indication of how many observations are present.\n",
    "\n",
    "- Mean: It's a measure of central tendency, as it constitutes the average value of the data.\n",
    "\n",
    "- Standard deviation: It indicates how spread out the values are around the mean. A higher standard deviation means the values are more spread out from the mean, while a lower standard deviation means the values are closer to the mean.\n",
    "\n",
    "- Minimum: It represents the lowest observed value in the dataset.\n",
    "\n",
    "- First quartile (25th percentile): It's a value below which 25% of the observations lie. \n",
    "\n",
    "- Second quartile (50th percentile): It represents the median, separating the higher half from the lower half of the data. \n",
    "\n",
    "- Third quartile (75th percentile): It's a value below which 75% of the observations lie. \n",
    "\n",
    "- Maximum: It represents the highest observed value in the dataset.\n",
    "\n",
    "**Findings:**  Key interpretations can be made from this function, both for the quantitative and categorical data. All of these observations require further exploration on an individual basis.\n",
    "\n",
    "- Null values: Confirming the observations made from `.info`, the count of rows does not match the count of values for _bill_length_mm, bill_depth_mm, flipper_length_mm, body_mass_g,_ and _sex_. \n",
    "\n",
    "- Outliers: _body_mass_g_ max value seems to be significantly greater than the mean, median and 75th percentile, which can potentially indicate the presence of outliers. \n",
    "\n",
    "- Number of classes: _sex_ column contains two categories, while species and islands are multi-class, indicating three different categories. Further validation required when examining the categorical variables.\n",
    "\n",
    "\n",
    "<sup>[1] <a href=\"https://medium.com/codex/9-efficient-ways-for-describing-and-summarizing-a-pandas-dataframe-316234f46e6\">9 Efficient Ways for Describing and Summarizing a Pandas DataFrame</a></sup>\n",
    "<sup><br>[2] <a href=\"https://medium.com/@muralimanohar6/leveraging-the-way-you-interpret-the-descriptive-statistics-in-python-bd2111fb5211\">Leveraging the way you interpret the “Descriptive Statistics” in Python</a>\n",
    "\n",
    "\n"
   ]
  },
  {
   "cell_type": "code",
   "execution_count": 6,
   "metadata": {},
   "outputs": [
    {
     "data": {
      "text/html": [
       "<div>\n",
       "<style scoped>\n",
       "    .dataframe tbody tr th:only-of-type {\n",
       "        vertical-align: middle;\n",
       "    }\n",
       "\n",
       "    .dataframe tbody tr th {\n",
       "        vertical-align: top;\n",
       "    }\n",
       "\n",
       "    .dataframe thead th {\n",
       "        text-align: right;\n",
       "    }\n",
       "</style>\n",
       "<table border=\"1\" class=\"dataframe\">\n",
       "  <thead>\n",
       "    <tr style=\"text-align: right;\">\n",
       "      <th></th>\n",
       "      <th>species</th>\n",
       "      <th>island</th>\n",
       "      <th>bill_length_mm</th>\n",
       "      <th>bill_depth_mm</th>\n",
       "      <th>flipper_length_mm</th>\n",
       "      <th>body_mass_g</th>\n",
       "      <th>sex</th>\n",
       "    </tr>\n",
       "  </thead>\n",
       "  <tbody>\n",
       "    <tr>\n",
       "      <th>count</th>\n",
       "      <td>344</td>\n",
       "      <td>344</td>\n",
       "      <td>342.000000</td>\n",
       "      <td>342.000000</td>\n",
       "      <td>342.000000</td>\n",
       "      <td>342.000000</td>\n",
       "      <td>333</td>\n",
       "    </tr>\n",
       "    <tr>\n",
       "      <th>unique</th>\n",
       "      <td>3</td>\n",
       "      <td>3</td>\n",
       "      <td>NaN</td>\n",
       "      <td>NaN</td>\n",
       "      <td>NaN</td>\n",
       "      <td>NaN</td>\n",
       "      <td>2</td>\n",
       "    </tr>\n",
       "    <tr>\n",
       "      <th>top</th>\n",
       "      <td>Adelie</td>\n",
       "      <td>Biscoe</td>\n",
       "      <td>NaN</td>\n",
       "      <td>NaN</td>\n",
       "      <td>NaN</td>\n",
       "      <td>NaN</td>\n",
       "      <td>Male</td>\n",
       "    </tr>\n",
       "    <tr>\n",
       "      <th>freq</th>\n",
       "      <td>152</td>\n",
       "      <td>168</td>\n",
       "      <td>NaN</td>\n",
       "      <td>NaN</td>\n",
       "      <td>NaN</td>\n",
       "      <td>NaN</td>\n",
       "      <td>168</td>\n",
       "    </tr>\n",
       "    <tr>\n",
       "      <th>mean</th>\n",
       "      <td>NaN</td>\n",
       "      <td>NaN</td>\n",
       "      <td>43.921930</td>\n",
       "      <td>17.151170</td>\n",
       "      <td>200.915205</td>\n",
       "      <td>4201.754386</td>\n",
       "      <td>NaN</td>\n",
       "    </tr>\n",
       "    <tr>\n",
       "      <th>std</th>\n",
       "      <td>NaN</td>\n",
       "      <td>NaN</td>\n",
       "      <td>5.459584</td>\n",
       "      <td>1.974793</td>\n",
       "      <td>14.061714</td>\n",
       "      <td>801.954536</td>\n",
       "      <td>NaN</td>\n",
       "    </tr>\n",
       "    <tr>\n",
       "      <th>min</th>\n",
       "      <td>NaN</td>\n",
       "      <td>NaN</td>\n",
       "      <td>32.100000</td>\n",
       "      <td>13.100000</td>\n",
       "      <td>172.000000</td>\n",
       "      <td>2700.000000</td>\n",
       "      <td>NaN</td>\n",
       "    </tr>\n",
       "    <tr>\n",
       "      <th>25%</th>\n",
       "      <td>NaN</td>\n",
       "      <td>NaN</td>\n",
       "      <td>39.225000</td>\n",
       "      <td>15.600000</td>\n",
       "      <td>190.000000</td>\n",
       "      <td>3550.000000</td>\n",
       "      <td>NaN</td>\n",
       "    </tr>\n",
       "    <tr>\n",
       "      <th>50%</th>\n",
       "      <td>NaN</td>\n",
       "      <td>NaN</td>\n",
       "      <td>44.450000</td>\n",
       "      <td>17.300000</td>\n",
       "      <td>197.000000</td>\n",
       "      <td>4050.000000</td>\n",
       "      <td>NaN</td>\n",
       "    </tr>\n",
       "    <tr>\n",
       "      <th>75%</th>\n",
       "      <td>NaN</td>\n",
       "      <td>NaN</td>\n",
       "      <td>48.500000</td>\n",
       "      <td>18.700000</td>\n",
       "      <td>213.000000</td>\n",
       "      <td>4750.000000</td>\n",
       "      <td>NaN</td>\n",
       "    </tr>\n",
       "    <tr>\n",
       "      <th>max</th>\n",
       "      <td>NaN</td>\n",
       "      <td>NaN</td>\n",
       "      <td>59.600000</td>\n",
       "      <td>21.500000</td>\n",
       "      <td>231.000000</td>\n",
       "      <td>6300.000000</td>\n",
       "      <td>NaN</td>\n",
       "    </tr>\n",
       "  </tbody>\n",
       "</table>\n",
       "</div>"
      ],
      "text/plain": [
       "       species  island  bill_length_mm  bill_depth_mm  flipper_length_mm  \\\n",
       "count      344     344      342.000000     342.000000         342.000000   \n",
       "unique       3       3             NaN            NaN                NaN   \n",
       "top     Adelie  Biscoe             NaN            NaN                NaN   \n",
       "freq       152     168             NaN            NaN                NaN   \n",
       "mean       NaN     NaN       43.921930      17.151170         200.915205   \n",
       "std        NaN     NaN        5.459584       1.974793          14.061714   \n",
       "min        NaN     NaN       32.100000      13.100000         172.000000   \n",
       "25%        NaN     NaN       39.225000      15.600000         190.000000   \n",
       "50%        NaN     NaN       44.450000      17.300000         197.000000   \n",
       "75%        NaN     NaN       48.500000      18.700000         213.000000   \n",
       "max        NaN     NaN       59.600000      21.500000         231.000000   \n",
       "\n",
       "        body_mass_g   sex  \n",
       "count    342.000000   333  \n",
       "unique          NaN     2  \n",
       "top             NaN  Male  \n",
       "freq            NaN   168  \n",
       "mean    4201.754386   NaN  \n",
       "std      801.954536   NaN  \n",
       "min     2700.000000   NaN  \n",
       "25%     3550.000000   NaN  \n",
       "50%     4050.000000   NaN  \n",
       "75%     4750.000000   NaN  \n",
       "max     6300.000000   NaN  "
      ]
     },
     "execution_count": 6,
     "metadata": {},
     "output_type": "execute_result"
    }
   ],
   "source": [
    "# By default, describe() includes only numeric columns, so the param include \n",
    "# should be specified for variables of object data type\n",
    "# https://pandas.pydata.org/docs/reference/api/pandas.DataFrame.describe.html#pandas.DataFrame.describe\n",
    "df.describe(include='all')"
   ]
  },
  {
   "cell_type": "markdown",
   "metadata": {},
   "source": [
    "### <a id='toc3_4_'></a>[X Action Items](#toc0_)"
   ]
  },
  {
   "cell_type": "markdown",
   "metadata": {},
   "source": [
    "✅ Item 1\n",
    "\n",
    "❌ Item 2"
   ]
  },
  {
   "cell_type": "markdown",
   "metadata": {},
   "source": [
    "## <a id='toc4_'></a>[Data Cleaning & Wrangling](#toc0_)"
   ]
  },
  {
   "cell_type": "markdown",
   "metadata": {},
   "source": [
    "As seen in the descriptive summary above, the dataset contains a few missing values which should be investigated. To detect these missing values, we use the `isna()` method.\n",
    "\n",
    "Check if normalisation is required due to formatting inconsistencies, e.g N/A,na or 0/0.0 as per [Data Cleaning with Python and Pandas: Detecting Missing Values](https://towardsdatascience.com/data-cleaning-with-python-and-pandas-detecting-missing-values-3e9c6ebcf78b)\n",
    "\n",
    "References:\n",
    "\n",
    "[Working with missing data](https://pandas.pydata.org/docs/user_guide/missing_data.html)\n",
    "\n",
    "[Working with Missing Data in Pandas](https://www.geeksforgeeks.org/working-with-missing-data-in-pandas/)\n",
    "_Is the missing numerical data all in the same rows? Explore that._"
   ]
  },
  {
   "cell_type": "code",
   "execution_count": 7,
   "metadata": {},
   "outputs": [
    {
     "data": {
      "text/plain": [
       "species               0\n",
       "island                0\n",
       "bill_length_mm        2\n",
       "bill_depth_mm         2\n",
       "flipper_length_mm     2\n",
       "body_mass_g           2\n",
       "sex                  11\n",
       "dtype: int64"
      ]
     },
     "execution_count": 7,
     "metadata": {},
     "output_type": "execute_result"
    }
   ],
   "source": [
    "df.isna().sum()"
   ]
  },
  {
   "cell_type": "code",
   "execution_count": 8,
   "metadata": {},
   "outputs": [
    {
     "data": {
      "text/html": [
       "<div>\n",
       "<style scoped>\n",
       "    .dataframe tbody tr th:only-of-type {\n",
       "        vertical-align: middle;\n",
       "    }\n",
       "\n",
       "    .dataframe tbody tr th {\n",
       "        vertical-align: top;\n",
       "    }\n",
       "\n",
       "    .dataframe thead th {\n",
       "        text-align: right;\n",
       "    }\n",
       "</style>\n",
       "<table border=\"1\" class=\"dataframe\">\n",
       "  <thead>\n",
       "    <tr style=\"text-align: right;\">\n",
       "      <th></th>\n",
       "      <th>species</th>\n",
       "      <th>island</th>\n",
       "      <th>bill_length_mm</th>\n",
       "      <th>bill_depth_mm</th>\n",
       "      <th>flipper_length_mm</th>\n",
       "      <th>body_mass_g</th>\n",
       "      <th>sex</th>\n",
       "    </tr>\n",
       "  </thead>\n",
       "  <tbody>\n",
       "    <tr>\n",
       "      <th>3</th>\n",
       "      <td>Adelie</td>\n",
       "      <td>Torgersen</td>\n",
       "      <td>NaN</td>\n",
       "      <td>NaN</td>\n",
       "      <td>NaN</td>\n",
       "      <td>NaN</td>\n",
       "      <td>NaN</td>\n",
       "    </tr>\n",
       "    <tr>\n",
       "      <th>8</th>\n",
       "      <td>Adelie</td>\n",
       "      <td>Torgersen</td>\n",
       "      <td>34.1</td>\n",
       "      <td>18.1</td>\n",
       "      <td>193.0</td>\n",
       "      <td>3475.0</td>\n",
       "      <td>NaN</td>\n",
       "    </tr>\n",
       "    <tr>\n",
       "      <th>9</th>\n",
       "      <td>Adelie</td>\n",
       "      <td>Torgersen</td>\n",
       "      <td>42.0</td>\n",
       "      <td>20.2</td>\n",
       "      <td>190.0</td>\n",
       "      <td>4250.0</td>\n",
       "      <td>NaN</td>\n",
       "    </tr>\n",
       "    <tr>\n",
       "      <th>10</th>\n",
       "      <td>Adelie</td>\n",
       "      <td>Torgersen</td>\n",
       "      <td>37.8</td>\n",
       "      <td>17.1</td>\n",
       "      <td>186.0</td>\n",
       "      <td>3300.0</td>\n",
       "      <td>NaN</td>\n",
       "    </tr>\n",
       "    <tr>\n",
       "      <th>11</th>\n",
       "      <td>Adelie</td>\n",
       "      <td>Torgersen</td>\n",
       "      <td>37.8</td>\n",
       "      <td>17.3</td>\n",
       "      <td>180.0</td>\n",
       "      <td>3700.0</td>\n",
       "      <td>NaN</td>\n",
       "    </tr>\n",
       "    <tr>\n",
       "      <th>47</th>\n",
       "      <td>Adelie</td>\n",
       "      <td>Dream</td>\n",
       "      <td>37.5</td>\n",
       "      <td>18.9</td>\n",
       "      <td>179.0</td>\n",
       "      <td>2975.0</td>\n",
       "      <td>NaN</td>\n",
       "    </tr>\n",
       "    <tr>\n",
       "      <th>246</th>\n",
       "      <td>Gentoo</td>\n",
       "      <td>Biscoe</td>\n",
       "      <td>44.5</td>\n",
       "      <td>14.3</td>\n",
       "      <td>216.0</td>\n",
       "      <td>4100.0</td>\n",
       "      <td>NaN</td>\n",
       "    </tr>\n",
       "    <tr>\n",
       "      <th>286</th>\n",
       "      <td>Gentoo</td>\n",
       "      <td>Biscoe</td>\n",
       "      <td>46.2</td>\n",
       "      <td>14.4</td>\n",
       "      <td>214.0</td>\n",
       "      <td>4650.0</td>\n",
       "      <td>NaN</td>\n",
       "    </tr>\n",
       "    <tr>\n",
       "      <th>324</th>\n",
       "      <td>Gentoo</td>\n",
       "      <td>Biscoe</td>\n",
       "      <td>47.3</td>\n",
       "      <td>13.8</td>\n",
       "      <td>216.0</td>\n",
       "      <td>4725.0</td>\n",
       "      <td>NaN</td>\n",
       "    </tr>\n",
       "    <tr>\n",
       "      <th>336</th>\n",
       "      <td>Gentoo</td>\n",
       "      <td>Biscoe</td>\n",
       "      <td>44.5</td>\n",
       "      <td>15.7</td>\n",
       "      <td>217.0</td>\n",
       "      <td>4875.0</td>\n",
       "      <td>NaN</td>\n",
       "    </tr>\n",
       "    <tr>\n",
       "      <th>339</th>\n",
       "      <td>Gentoo</td>\n",
       "      <td>Biscoe</td>\n",
       "      <td>NaN</td>\n",
       "      <td>NaN</td>\n",
       "      <td>NaN</td>\n",
       "      <td>NaN</td>\n",
       "      <td>NaN</td>\n",
       "    </tr>\n",
       "  </tbody>\n",
       "</table>\n",
       "</div>"
      ],
      "text/plain": [
       "    species     island  bill_length_mm  bill_depth_mm  flipper_length_mm  \\\n",
       "3    Adelie  Torgersen             NaN            NaN                NaN   \n",
       "8    Adelie  Torgersen            34.1           18.1              193.0   \n",
       "9    Adelie  Torgersen            42.0           20.2              190.0   \n",
       "10   Adelie  Torgersen            37.8           17.1              186.0   \n",
       "11   Adelie  Torgersen            37.8           17.3              180.0   \n",
       "47   Adelie      Dream            37.5           18.9              179.0   \n",
       "246  Gentoo     Biscoe            44.5           14.3              216.0   \n",
       "286  Gentoo     Biscoe            46.2           14.4              214.0   \n",
       "324  Gentoo     Biscoe            47.3           13.8              216.0   \n",
       "336  Gentoo     Biscoe            44.5           15.7              217.0   \n",
       "339  Gentoo     Biscoe             NaN            NaN                NaN   \n",
       "\n",
       "     body_mass_g  sex  \n",
       "3            NaN  NaN  \n",
       "8         3475.0  NaN  \n",
       "9         4250.0  NaN  \n",
       "10        3300.0  NaN  \n",
       "11        3700.0  NaN  \n",
       "47        2975.0  NaN  \n",
       "246       4100.0  NaN  \n",
       "286       4650.0  NaN  \n",
       "324       4725.0  NaN  \n",
       "336       4875.0  NaN  \n",
       "339          NaN  NaN  "
      ]
     },
     "execution_count": 8,
     "metadata": {},
     "output_type": "execute_result"
    }
   ],
   "source": [
    "df[df['sex'].isna()]"
   ]
  },
  {
   "cell_type": "markdown",
   "metadata": {},
   "source": [
    "It seems that record 3 can be dropped as well as record 339. Not sure what to do yet with the other 9 rows with missing values in the sex variable."
   ]
  },
  {
   "cell_type": "markdown",
   "metadata": {},
   "source": [
    "To delete rows from the DataFrame we'll use the `.drop()` function, which references the rows based on their “index values“.\n",
    "\n",
    "[pandas.DataFrame.drop](https://pandas.pydata.org/pandas-docs/stable/reference/api/pandas.DataFrame.drop.html)\n",
    "\n",
    "[Delete Rows & Columns in DataFrames Quickly using Pandas Drop](https://www.shanelynn.ie/pandas-drop-delete-dataframe-rows-columns/)\n"
   ]
  },
  {
   "cell_type": "code",
   "execution_count": 9,
   "metadata": {},
   "outputs": [],
   "source": [
    "# Set inplace as True, otherwise a copy will be returned\n",
    "df.drop(index=[3,339],inplace=True)"
   ]
  },
  {
   "cell_type": "code",
   "execution_count": 10,
   "metadata": {},
   "outputs": [
    {
     "data": {
      "text/plain": [
       "species              0\n",
       "island               0\n",
       "bill_length_mm       0\n",
       "bill_depth_mm        0\n",
       "flipper_length_mm    0\n",
       "body_mass_g          0\n",
       "sex                  9\n",
       "dtype: int64"
      ]
     },
     "execution_count": 10,
     "metadata": {},
     "output_type": "execute_result"
    }
   ],
   "source": [
    "df.isna().sum()"
   ]
  },
  {
   "cell_type": "markdown",
   "metadata": {},
   "source": [
    "---\n",
    "## <a id='toc5_'></a>[Data Analysis](#toc0_)\n",
    "\n",
    "https://medium.com/@nomannayeem/mastering-exploratory-data-analysis-eda-a-comprehensive-python-pandas-guide-for-data-insights-c0be7c5b8889"
   ]
  },
  {
   "cell_type": "markdown",
   "metadata": {},
   "source": [
    "### <a id='toc5_1_'></a>[Univariate Analysis](#toc0_)"
   ]
  },
  {
   "cell_type": "markdown",
   "metadata": {},
   "source": [
    "#### <a id='toc5_1_1_'></a>[Numeric variables](#toc0_)"
   ]
  },
  {
   "cell_type": "markdown",
   "metadata": {},
   "source": [
    "#### <a id='toc5_1_2_'></a>[Categorical variables](#toc0_)"
   ]
  },
  {
   "cell_type": "markdown",
   "metadata": {},
   "source": [
    "### <a id='toc5_2_'></a>[Bivariate Analysis](#toc0_)"
   ]
  },
  {
   "cell_type": "markdown",
   "metadata": {},
   "source": [
    "***I. Sex distribution***\n",
    "\n",
    "As in https://matplotlib.org/stable/gallery/lines_bars_and_markers/bar_label_demo.html#sphx-glr-gallery-lines-bars-and-markers-bar-label-demo-py\n",
    "\n"
   ]
  },
  {
   "cell_type": "code",
   "execution_count": 11,
   "metadata": {},
   "outputs": [
    {
     "data": {
      "image/png": "[encoded data removed]",
      "text/plain": [
       "<Figure size 1500x600 with 2 Axes>"
      ]
     },
     "metadata": {},
     "output_type": "display_data"
    }
   ],
   "source": [
    "# Pivot the d to create a table suitable for plotting stacked bar chart\n",
    "pivot_table_species = df.pivot_table(index='species', columns='sex', aggfunc='size', fill_value=0)\n",
    "pivot_table_island = df.pivot_table(index='island', columns='sex', aggfunc='size', fill_value=0)\n",
    "\n",
    "# Define the width of the bars\n",
    "width = 0.6\n",
    "\n",
    "# Create the plot\n",
    "fig, ax = plt.subplots(nrows=1, ncols=2, figsize=(15, 6))\n",
    "\n",
    "# Initialize bottom values for stacking bars\n",
    "bottom_species = np.zeros(len(pivot_table_species.index))\n",
    "bottom_island = np.zeros(len(pivot_table_island.index))\n",
    "\n",
    "# Define the diverging color palette\n",
    "cmap = sns.diverging_palette(20, 220, as_cmap=True)\n",
    "\n",
    "# Plot stacked bars for species\n",
    "for i, sex in enumerate(pivot_table_species.columns):\n",
    "    p_species = ax[0].bar(pivot_table_species.index, pivot_table_species.iloc[:, i], width, label=sex, bottom=bottom_species, color=cmap(i / len(pivot_table_species.columns)))\n",
    "    bottom_species += pivot_table_species.iloc[:, i]\n",
    "\n",
    "    # Add labels to the bars\n",
    "    ax[0].bar_label(p_species, label_type='center')\n",
    "\n",
    "# Plot stacked bars for island\n",
    "for i, sex in enumerate(pivot_table_island.columns):\n",
    "    p_island = ax[1].bar(pivot_table_island.index, pivot_table_island.iloc[:, i], width, label=sex, bottom=bottom_island, color=cmap(i / len(pivot_table_island.columns)))\n",
    "    bottom_island += pivot_table_island.iloc[:, i]\n",
    "\n",
    "    # Add labels to the bars\n",
    "    ax[1].bar_label(p_island, label_type='center')\n",
    "\n",
    "# Add labels and title for the first plot\n",
    "ax[0].set_title('Number of penguins by species')\n",
    "ax[0].legend()\n",
    "\n",
    "# Add labels and title for the second plot\n",
    "ax[1].set_title('Number of penguins by island')\n",
    "ax[1].legend()\n",
    "\n",
    "plt.tight_layout()\n",
    "plt.show()"
   ]
  },
  {
   "cell_type": "code",
   "execution_count": 17,
   "metadata": {},
   "outputs": [
    {
     "data": {
      "image/png": "[encoded data removed]",
      "text/plain": [
       "<Figure size 640x480 with 1 Axes>"
      ]
     },
     "metadata": {},
     "output_type": "display_data"
    }
   ],
   "source": [
    "# Pivot the dataframe to create a table suitable for plotting stacked bar chart\n",
    "pivot_table = df.pivot_table(index='island', columns='sex', aggfunc='size', fill_value=0)\n",
    "\n",
    "# Convert the index and columns to arrays\n",
    "island = pivot_table.index\n",
    "sex_counts = pivot_table.values\n",
    "\n",
    "# Create the plot and set formatting settings\n",
    "width = 0.6\n",
    "color_palette = ['#7AB', '#ECA']\n",
    "\n",
    "fig, ax = plt.subplots()\n",
    "\n",
    "# Initialize bottom values for stacking bars\n",
    "bottom = np.zeros(len(island))\n",
    "\n",
    "# Iterate over sex counts and plot stacked bars\n",
    "for i, sex in enumerate(pivot_table.columns):\n",
    "    p = ax.bar(island, sex_counts[:, i], width, label=sex, bottom=bottom, color=color_palette[i])\n",
    "    bottom += sex_counts[:, i]\n",
    "\n",
    "    # Add labels\n",
    "    ax.bar_label(p, label_type='center')\n",
    "\n",
    "# Add legend and title\n",
    "ax.set_title('Number of penguins by sex and species')\n",
    "ax.legend()\n",
    "\n",
    "plt.show()"
   ]
  },
  {
   "cell_type": "markdown",
   "metadata": {},
   "source": [
    "### <a id='toc5_3_'></a>[Multivariate Analysis](#toc0_)"
   ]
  },
  {
   "cell_type": "markdown",
   "metadata": {},
   "source": [
    "For multivariate analysis, focus will be on analysing the interactions between features, as well as their correlations.\n",
    "\n",
    "Links to look into: \n",
    "https://realpython.com/numpy-scipy-pandas-correlation-python/\n",
    "https://towardsdatascience.com/a-data-scientists-essential-guide-to-exploratory-data-analysis-25637eee0cf6\n",
    "https://towardsdatascience.com/let-us-understand-the-correlation-matrix-and-covariance-matrix-d42e6b643c22#:~:text=In%20simple%20words%2C%20both%20the,linear%20relationship%20between%20two%20variables.\n"
   ]
  },
  {
   "cell_type": "markdown",
   "metadata": {},
   "source": [
    "**Rationale:** Understand the correlation between numerical variables with a heatmap. The correlation matrix provides a quantified relationship between the continuous variables in the dataset, ranging from -1 to 1. Positive values indicate a positive correlation, whereas negative values suggest an inverse correlation. A value closer to 1 or -1 signifies a stronger correlation. **What's the baseline?**\n",
    "\n",
    "\n",
    "[Seaborn correlation heatmaps customisation](https://medium.com/@chrisshaw982/seaborn-correlation-heatmaps-customized-10246f4f7f4b)\n",
    "\n",
    "[Seaborn official documentation](https://seaborn.pydata.org/generated/seaborn.heatmap.html)\n",
    "\n",
    "[How to Create a Seaborn Correlation Heatmap in Python?](https://medium.com/@szabo.bibor/how-to-create-a-seaborn-correlation-heatmap-in-python-834c0686b88e)\n",
    "\n",
    "https://matplotlib.org/3.1.1/api/_as_gen/matplotlib.axes.Axes.set_title.html\n",
    "\n",
    "[Seaborn heatmap: A Complete Guide](https://datagy.io/seaborn-heatmap/)\n",
    "\n",
    "[Calculate and Plot a Correlation Matrix in Python and Pandas](https://datagy.io/python-correlation-matrix/)\n",
    "\n",
    "https://medium.com/@chrisshaw982/seaborn-correlation-heatmaps-customized-10246f4f7f4b\n",
    "\n",
    "\n",
    "**Findings:** "
   ]
  },
  {
   "cell_type": "code",
   "execution_count": 13,
   "metadata": {},
   "outputs": [
    {
     "data": {
      "text/plain": [
       "Text(0.5, 1.0, 'Correlation Matrix')"
      ]
     },
     "execution_count": 13,
     "metadata": {},
     "output_type": "execute_result"
    },
    {
     "data": {
      "image/png": "[encoded data removed]",
      "text/plain": [
       "<Figure size 800x600 with 2 Axes>"
      ]
     },
     "metadata": {},
     "output_type": "display_data"
    }
   ],
   "source": [
    "# First calculate correlation matrix with .corr(). Since pandas version 2.0.0, the default value of numeric_only is now False, \n",
    "# so this param needs to be set as True due to the 3 categorical variables in the dataset\n",
    "corr = df.corr(numeric_only=True)\n",
    "\n",
    "# Adjust heatmap size\n",
    "plt.figure(figsize=(8, 6))\n",
    "\n",
    "# Remove the redudant upper half as well as the diagonal line of 1s to declutter the visual\n",
    "mask = np.triu(np.ones_like(corr, dtype=bool))\n",
    "\n",
    "sns.heatmap(corr, annot=True, \n",
    "            linewidth=1, \n",
    "            cmap=sns.diverging_palette(15, 190, as_cmap=True), \n",
    "            vmax=1, \n",
    "            vmin=-1,\n",
    "            mask=mask )\n",
    "\n",
    "# As Seaborn is built on top of matplolib we can use the title function\n",
    "plt.title('Correlation Matrix',fontdict={'fontsize':12}, pad=12, loc='center')"
   ]
  },
  {
   "cell_type": "markdown",
   "metadata": {},
   "source": [
    "---"
   ]
  },
  {
   "cell_type": "markdown",
   "metadata": {},
   "source": [
    "## <a id='toc6_'></a>[Insights & Conclusion](#toc0_)"
   ]
  },
  {
   "cell_type": "markdown",
   "metadata": {},
   "source": [
    "----"
   ]
  },
  {
   "cell_type": "markdown",
   "metadata": {},
   "source": [
    "## <a id='toc7_'></a>[Notes](#toc0_)\n",
    "\n",
    "1. Markdowns formatting of this Jupyter Notebook were based on:\n",
    "* [The Jupyter Notebook Formatting Guide](https://medium.com/pythoneers/jupyter-notebook-101-everything-you-need-to-know-56cda3ea76ef) by Raghu Prodduturi\n",
    "* [Markdown Cheat Sheet](https://markdownguide.offshoot.io/cheat-sheet/)\n",
    "* [Markdown Extended Syntax](https://markdownguide.offshoot.io/extended-syntax)\n"
   ]
  },
  {
   "cell_type": "markdown",
   "metadata": {},
   "source": [
    "---\n",
    "## <a id='toc8_'></a>[End](#toc0_)\n"
   ]
  }
 ],
 "metadata": {
  "kernelspec": {
   "display_name": "base",
   "language": "python",
   "name": "python3"
  },
  "language_info": {
   "codemirror_mode": {
    "name": "ipython",
    "version": 3
   },
   "file_extension": ".py",
   "mimetype": "text/x-python",
   "name": "python",
   "nbconvert_exporter": "python",
   "pygments_lexer": "ipython3",
   "version": "3.11.7"
  }
 },
 "nbformat": 4,
 "nbformat_minor": 2
}
