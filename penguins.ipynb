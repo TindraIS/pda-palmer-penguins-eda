{
 "cells": [
  {
   "cell_type": "markdown",
   "metadata": {},
   "source": [
    "# Palmer Penguins Exploratory Data Analysis"
   ]
  },
  {
   "cell_type": "markdown",
   "metadata": {},
   "source": [
    "> *Irina Simoes*"
   ]
  },
  {
   "cell_type": "markdown",
   "metadata": {},
   "source": [
    "### 1. Intro"
   ]
  },
  {
   "cell_type": "markdown",
   "metadata": {},
   "source": [
    "This exploratory data analysis (EDA) aims to provide insights on the variables of the [Palmer Penguins dataset](https://allisonhorst.github.io/palmerpenguins/articles/intro.html), which was first introduced by Allison Horst, Alison Hill, and Kristen Gorman in 2020. The dataset is a collection of data about three different species of penguins inhabiting the Palmer Archipelago near Palmer Station in Antarctica, which wwere collected from 2007 to 2009 by Dr. Kristen Gorman with the Palmer Station Long Term Ecological Research Program, part of the US Long Term Ecological Research Network.\n",
    "\n",
    "For this analysis, we will focus on exploring the data to gain insights on the underlying attributes with the end goal of uncovering patterns and identifying dependencies. We will seek to explore the [correlation between two of the variables](https://towardsdatascience.com/what-it-takes-to-be-correlated-ce41ad0d8d7f), whether they are casual or not, by structuring the report as per the [Exploratory Data Analysis in Python](https://www.geeksforgeeks.org/exploratory-data-analysis-in-python/) article.\n",
    "\n",
    "\n",
    "https://www.geeksforgeeks.org/exploratory-data-analysis-eda-types-and-tools/\n",
    "https://www.geeksforgeeks.org/exploratory-data-analysis-in-python-set-1/\n",
    "https://www.geeksforgeeks.org/data-analysis-visualization-python-set-2/\n",
    "https://www.geeksforgeeks.org/what-is-exploratory-data-analysis/\n",
    "\n"
   ]
  },
  {
   "cell_type": "markdown",
   "metadata": {},
   "source": [
    "### 2. Data Exploration"
   ]
  },
  {
   "cell_type": "markdown",
   "metadata": {},
   "source": [
    "Load all the required libraries for the analysis:\n",
    "* seaborn\n",
    "* pandas\n",
    "* numpy\n",
    "* matplotlib"
   ]
  },
  {
   "cell_type": "code",
   "execution_count": 13,
   "metadata": {},
   "outputs": [],
   "source": [
    "# Import libraries\n",
    "\n",
    "import seaborn as sns\n",
    "import pandas as pd\n",
    "import numpy as np\n",
    "import matplotlib.pyplot as plt"
   ]
  },
  {
   "cell_type": "markdown",
   "metadata": {},
   "source": [
    "As stated in the [official documentation for the Seaborn library](https://seaborn.pydata.org/generated/seaborn.load_dataset.html), datasets can be loaded from an [online repository](https://github.com/mwaskom/seaborn-data):\n",
    "- first by invoking *get_dataset_names()* to check if Palmer Penguins is listed as one of the of available datasets;\n",
    "- secondly by invoking seaborn.load_dataset() with the actual database name to load it into our project, namely *penguins*."
   ]
  },
  {
   "cell_type": "code",
   "execution_count": 19,
   "metadata": {},
   "outputs": [
    {
     "data": {
      "text/plain": [
       "['anagrams',\n",
       " 'anscombe',\n",
       " 'attention',\n",
       " 'brain_networks',\n",
       " 'car_crashes',\n",
       " 'diamonds',\n",
       " 'dots',\n",
       " 'dowjones',\n",
       " 'exercise',\n",
       " 'flights',\n",
       " 'fmri',\n",
       " 'geyser',\n",
       " 'glue',\n",
       " 'healthexp',\n",
       " 'iris',\n",
       " 'mpg',\n",
       " 'penguins',\n",
       " 'planets',\n",
       " 'seaice',\n",
       " 'taxis',\n",
       " 'tips',\n",
       " 'titanic']"
      ]
     },
     "execution_count": 19,
     "metadata": {},
     "output_type": "execute_result"
    }
   ],
   "source": [
    "sns.get_dataset_names()"
   ]
  },
  {
   "cell_type": "code",
   "execution_count": 18,
   "metadata": {},
   "outputs": [],
   "source": [
    "df = sns.load_dataset(\"penguins\")"
   ]
  },
  {
   "cell_type": "markdown",
   "metadata": {},
   "source": [
    "### X. Notes"
   ]
  },
  {
   "cell_type": "markdown",
   "metadata": {},
   "source": [
    "a. Markdowns formatting of this Jupyter Notebook were based on [The Jupyter Notebook Formatting Guide](https://medium.com/pythoneers/jupyter-notebook-101-everything-you-need-to-know-56cda3ea76ef) by Raghu Prodduturi."
   ]
  }
 ],
 "metadata": {
  "kernelspec": {
   "display_name": "base",
   "language": "python",
   "name": "python3"
  },
  "language_info": {
   "codemirror_mode": {
    "name": "ipython",
    "version": 3
   },
   "file_extension": ".py",
   "mimetype": "text/x-python",
   "name": "python",
   "nbconvert_exporter": "python",
   "pygments_lexer": "ipython3",
   "version": "3.11.5"
  }
 },
 "nbformat": 4,
 "nbformat_minor": 2
}
